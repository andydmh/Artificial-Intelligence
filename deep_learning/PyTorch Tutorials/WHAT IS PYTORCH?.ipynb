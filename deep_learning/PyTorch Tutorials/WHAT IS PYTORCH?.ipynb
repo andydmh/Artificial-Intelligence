{
 "cells": [
  {
   "cell_type": "markdown",
   "metadata": {},
   "source": [
    "https://pytorch.org/tutorials/beginner/blitz/tensor_tutorial.html#sphx-glr-beginner-blitz-tensor-tutorial-py"
   ]
  },
  {
   "cell_type": "markdown",
   "metadata": {},
   "source": [
    "Tensors are similar to NumPy’s ndarrays, with the addition being that Tensors can also be used on a GPU to accelerate computing."
   ]
  },
  {
   "cell_type": "code",
   "execution_count": 1,
   "metadata": {},
   "outputs": [],
   "source": [
    "from __future__ import print_function\n",
    "import torch"
   ]
  },
  {
   "cell_type": "markdown",
   "metadata": {},
   "source": [
    "An uninitialized matrix is declared, but does not contain definite known values before it is used. When an uninitialized matrix is created, whatever values were in the allocated memory at the time will appear as the initial values."
   ]
  },
  {
   "cell_type": "code",
   "execution_count": 2,
   "metadata": {},
   "outputs": [
    {
     "name": "stdout",
     "output_type": "stream",
     "text": [
      "tensor([[ 0.0000e+00, -4.6566e-10,  2.7521e+25],\n",
      "        [-2.5250e-29,  1.1210e-44,  0.0000e+00],\n",
      "        [ 0.0000e+00,  0.0000e+00,  0.0000e+00],\n",
      "        [ 0.0000e+00,  0.0000e+00,  0.0000e+00],\n",
      "        [ 0.0000e+00,  0.0000e+00,  0.0000e+00]])\n"
     ]
    }
   ],
   "source": [
    "x = torch.empty(5, 3)\n",
    "print(x)"
   ]
  },
  {
   "cell_type": "markdown",
   "metadata": {},
   "source": [
    "### Constructing other types of matrices"
   ]
  },
  {
   "cell_type": "code",
   "execution_count": 3,
   "metadata": {},
   "outputs": [
    {
     "name": "stdout",
     "output_type": "stream",
     "text": [
      "tensor([[0.5732, 0.8058, 0.1299],\n",
      "        [0.3318, 0.8010, 0.7998],\n",
      "        [0.3056, 0.8126, 0.0725],\n",
      "        [0.9092, 0.4194, 0.7338],\n",
      "        [0.2676, 0.8069, 0.5658]])\n"
     ]
    }
   ],
   "source": [
    "# Construct a randomly initialized matrix:\n",
    "x = torch.rand(5, 3)\n",
    "print(x)"
   ]
  },
  {
   "cell_type": "code",
   "execution_count": 4,
   "metadata": {},
   "outputs": [
    {
     "name": "stdout",
     "output_type": "stream",
     "text": [
      "tensor([[0, 0, 0],\n",
      "        [0, 0, 0],\n",
      "        [0, 0, 0],\n",
      "        [0, 0, 0],\n",
      "        [0, 0, 0]])\n"
     ]
    }
   ],
   "source": [
    "# Construct a matrix filled zeros and of dtype long:\n",
    "x = torch.zeros(5, 3, dtype=torch.long)\n",
    "print(x)"
   ]
  },
  {
   "cell_type": "code",
   "execution_count": 5,
   "metadata": {},
   "outputs": [
    {
     "name": "stdout",
     "output_type": "stream",
     "text": [
      "tensor([5.5000, 3.0000])\n"
     ]
    }
   ],
   "source": [
    "# Construct a tensor directly from data:\n",
    "x = torch.tensor([5.5, 3])\n",
    "print(x)"
   ]
  },
  {
   "cell_type": "code",
   "execution_count": 6,
   "metadata": {},
   "outputs": [
    {
     "name": "stdout",
     "output_type": "stream",
     "text": [
      "tensor([[1., 1., 1.],\n",
      "        [1., 1., 1.],\n",
      "        [1., 1., 1.],\n",
      "        [1., 1., 1.],\n",
      "        [1., 1., 1.]], dtype=torch.float64)\n",
      "tensor([[ 1.2552, -0.8092, -0.1013],\n",
      "        [-0.4330, -0.4990,  1.0227],\n",
      "        [-0.9962,  0.5692, -0.5758],\n",
      "        [ 0.1799,  1.8543, -2.5183],\n",
      "        [ 0.1792,  1.1303, -0.0057]])\n"
     ]
    }
   ],
   "source": [
    "# create a tensor based on an existing tensor. These methods will reuse properties of the input tensor, \n",
    "# e.g. dtype, unless new values are provided by user\n",
    "\n",
    "x = x.new_ones(5, 3, dtype=torch.double)      # new_* methods take in sizes\n",
    "print(x)\n",
    "\n",
    "x = torch.randn_like(x, dtype=torch.float)    # override dtype!\n",
    "print(x)                                      # result has the same size"
   ]
  },
  {
   "cell_type": "markdown",
   "metadata": {},
   "source": [
    "### Operations in tensors"
   ]
  },
  {
   "cell_type": "code",
   "execution_count": 11,
   "metadata": {},
   "outputs": [
    {
     "name": "stdout",
     "output_type": "stream",
     "text": [
      "torch.Size([5, 3])\n",
      "tensor([[ 1.5133e+00, -2.4993e-01,  7.7794e-01],\n",
      "        [ 4.7119e-02, -1.2462e-01,  1.5410e+00],\n",
      "        [-9.4180e-01,  8.6051e-01,  2.1240e-03],\n",
      "        [ 8.0745e-01,  2.2514e+00, -1.9936e+00],\n",
      "        [ 9.3317e-01,  1.2881e+00,  9.0628e-01]])\n",
      "tensor([[ 1.5133e+00, -2.4993e-01,  7.7794e-01],\n",
      "        [ 4.7119e-02, -1.2462e-01,  1.5410e+00],\n",
      "        [-9.4180e-01,  8.6051e-01,  2.1240e-03],\n",
      "        [ 8.0745e-01,  2.2514e+00, -1.9936e+00],\n",
      "        [ 9.3317e-01,  1.2881e+00,  9.0628e-01]])\n",
      "tensor([[ 1.5133e+00, -2.4993e-01,  7.7794e-01],\n",
      "        [ 4.7119e-02, -1.2462e-01,  1.5410e+00],\n",
      "        [-9.4180e-01,  8.6051e-01,  2.1240e-03],\n",
      "        [ 8.0745e-01,  2.2514e+00, -1.9936e+00],\n",
      "        [ 9.3317e-01,  1.2881e+00,  9.0628e-01]])\n",
      "tensor([[ 1.5133e+00, -2.4993e-01,  7.7794e-01],\n",
      "        [ 4.7119e-02, -1.2462e-01,  1.5410e+00],\n",
      "        [-9.4180e-01,  8.6051e-01,  2.1240e-03],\n",
      "        [ 8.0745e-01,  2.2514e+00, -1.9936e+00],\n",
      "        [ 9.3317e-01,  1.2881e+00,  9.0628e-01]])\n"
     ]
    }
   ],
   "source": [
    "# Size/Dimensions\n",
    "print(x.size())\n",
    "\n",
    "# Addition syntax option one\n",
    "y = torch.rand(5, 3)\n",
    "print(x + y)\n",
    "\n",
    "# Addition syntax option two\n",
    "print(torch.add(x, y))\n",
    "\n",
    "# Addition: providing an output tensor as argument\n",
    "result = torch.empty(5, 3)\n",
    "torch.add(x, y, out=result)\n",
    "print(result)\n",
    "\n",
    "# Addition: in-place\n",
    "# adds x to y\n",
    "y.add_(x)\n",
    "print(y)"
   ]
  },
  {
   "cell_type": "code",
   "execution_count": 12,
   "metadata": {},
   "outputs": [
    {
     "name": "stdout",
     "output_type": "stream",
     "text": [
      "tensor([-0.8092, -0.4990,  0.5692,  1.8543,  1.1303])\n"
     ]
    }
   ],
   "source": [
    "# You can use standard NumPy-like indexing with all bells and whistles!\n",
    "print(x[:, 1])"
   ]
  },
  {
   "cell_type": "code",
   "execution_count": 13,
   "metadata": {},
   "outputs": [
    {
     "name": "stdout",
     "output_type": "stream",
     "text": [
      "torch.Size([4, 4]) torch.Size([16]) torch.Size([2, 8])\n"
     ]
    }
   ],
   "source": [
    "# Resizing: If you want to resize/reshape tensor, you can use torch.view:\n",
    "x = torch.randn(4, 4)\n",
    "y = x.view(16)\n",
    "z = x.view(-1, 8)  # the size -1 is inferred from other dimensions\n",
    "print(x.size(), y.size(), z.size())"
   ]
  },
  {
   "cell_type": "code",
   "execution_count": 14,
   "metadata": {},
   "outputs": [
    {
     "name": "stdout",
     "output_type": "stream",
     "text": [
      "tensor([0.1011])\n",
      "0.10113462060689926\n"
     ]
    }
   ],
   "source": [
    "# If you have a one element tensor, use .item() to get the value as a Python number\n",
    "x = torch.randn(1)\n",
    "print(x)\n",
    "print(x.item())"
   ]
  },
  {
   "cell_type": "markdown",
   "metadata": {},
   "source": [
    "### Numpy Compatibility "
   ]
  },
  {
   "cell_type": "code",
   "execution_count": 15,
   "metadata": {},
   "outputs": [
    {
     "name": "stdout",
     "output_type": "stream",
     "text": [
      "tensor([1., 1., 1., 1., 1.])\n",
      "[1. 1. 1. 1. 1.]\n"
     ]
    }
   ],
   "source": [
    "a = torch.ones(5)\n",
    "print(a)\n",
    "b = a.numpy()\n",
    "print(b)"
   ]
  },
  {
   "cell_type": "code",
   "execution_count": 16,
   "metadata": {},
   "outputs": [
    {
     "name": "stdout",
     "output_type": "stream",
     "text": [
      "[2. 2. 2. 2. 2.]\n",
      "tensor([2., 2., 2., 2., 2.], dtype=torch.float64)\n"
     ]
    }
   ],
   "source": [
    "import numpy as np\n",
    "a = np.ones(5)\n",
    "b = torch.from_numpy(a)\n",
    "np.add(a, 1, out=a)\n",
    "print(a)\n",
    "print(b)"
   ]
  },
  {
   "cell_type": "markdown",
   "metadata": {},
   "source": [
    "### CUDA Tensors"
   ]
  },
  {
   "cell_type": "code",
   "execution_count": null,
   "metadata": {},
   "outputs": [],
   "source": [
    "# let us run this cell only if CUDA is available\n",
    "# We will use ``torch.device`` objects to move tensors in and out of GPU\n",
    "if torch.cuda.is_available():\n",
    "    device = torch.device(\"cuda\")          # a CUDA device object\n",
    "    y = torch.ones_like(x, device=device)  # directly create a tensor on GPU\n",
    "    x = x.to(device)                       # or just use strings ``.to(\"cuda\")``\n",
    "    z = x + y\n",
    "    print(z)\n",
    "    print(z.to(\"cpu\", torch.double))       # ``.to`` can also change dtype together!"
   ]
  }
 ],
 "metadata": {
  "kernelspec": {
   "display_name": "Python 3",
   "language": "python",
   "name": "python3"
  },
  "language_info": {
   "codemirror_mode": {
    "name": "ipython",
    "version": 3
   },
   "file_extension": ".py",
   "mimetype": "text/x-python",
   "name": "python",
   "nbconvert_exporter": "python",
   "pygments_lexer": "ipython3",
   "version": "3.7.7"
  }
 },
 "nbformat": 4,
 "nbformat_minor": 2
}
